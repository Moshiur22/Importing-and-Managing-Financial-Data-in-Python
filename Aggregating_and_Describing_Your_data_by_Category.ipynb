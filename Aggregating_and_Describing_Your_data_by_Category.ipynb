{
  "nbformat": 4,
  "nbformat_minor": 0,
  "metadata": {
    "colab": {
      "provenance": [],
      "authorship_tag": "ABX9TyNauLY6dt/mC1kGWXfa0Jb7"
    },
    "kernelspec": {
      "name": "python3",
      "display_name": "Python 3"
    },
    "language_info": {
      "name": "python"
    }
  },
  "cells": [
    {
      "cell_type": "markdown",
      "source": [
        "#Aggregate your data by Category"
      ],
      "metadata": {
        "id": "trVEy2UNmgsh"
      }
    },
    {
      "cell_type": "code",
      "source": [
        "import pandas as pd\n",
        "import numpy as np\n",
        "import matplotlib.pyplot as plt"
      ],
      "metadata": {
        "id": "SyrQUCiWmuSh"
      },
      "execution_count": 1,
      "outputs": []
    },
    {
      "cell_type": "code",
      "source": [
        "nasdaq=pd.read_csv('nasdaq-listings.csv')"
      ],
      "metadata": {
        "id": "VJA-cBjvnT6j"
      },
      "execution_count": 2,
      "outputs": []
    },
    {
      "cell_type": "code",
      "source": [
        "nasdaq.info()"
      ],
      "metadata": {
        "colab": {
          "base_uri": "https://localhost:8080/"
        },
        "id": "RZ9SAAsgnxHT",
        "outputId": "b6e71d48-d3e9-4934-c49c-94039888d057"
      },
      "execution_count": 3,
      "outputs": [
        {
          "output_type": "stream",
          "name": "stdout",
          "text": [
            "<class 'pandas.core.frame.DataFrame'>\n",
            "RangeIndex: 1115 entries, 0 to 1114\n",
            "Data columns (total 8 columns):\n",
            " #   Column                 Non-Null Count  Dtype  \n",
            "---  ------                 --------------  -----  \n",
            " 0   Stock Symbol           1115 non-null   object \n",
            " 1   Company Name           1115 non-null   object \n",
            " 2   Last Sale              1115 non-null   float64\n",
            " 3   Market Capitalization  1115 non-null   float64\n",
            " 4   IPO Year               1115 non-null   object \n",
            " 5   Sector                 1115 non-null   object \n",
            " 6   Industry               1115 non-null   object \n",
            " 7   Last Update            1115 non-null   object \n",
            "dtypes: float64(2), object(6)\n",
            "memory usage: 69.8+ KB\n"
          ]
        }
      ]
    },
    {
      "cell_type": "code",
      "source": [
        "#group data by sector\n",
        "nasdaq['market_cap_m']= nasdaq['Market Capitalization'].div(1e6)\n",
        "nasdaq = nasdaq.drop('Market Capitalization',axis=1) #Drop column\n",
        "nasdaq_by_sector = nasdaq.groupby('Sector') # Create groupby object\n",
        "for sector,data in nasdaq_by_sector:\n",
        "  print(sector,data.market_cap_m.mean())"
      ],
      "metadata": {
        "colab": {
          "base_uri": "https://localhost:8080/"
        },
        "id": "HhYoDKlPn34b",
        "outputId": "ccf608d4-b3ee-4718-e59f-459ec61ec93f"
      },
      "execution_count": 4,
      "outputs": [
        {
          "output_type": "stream",
          "name": "stdout",
          "text": [
            "Basic Industries 2092.7725206166665\n",
            "Capital Goods 3693.104680289394\n",
            "Consumer Durables 2732.097901041667\n",
            "Consumer Non-Durables 8877.31880222\n",
            "Consumer Services 11061.204255272833\n",
            "Energy 2538.162505805263\n",
            "Finance 3018.0067453908628\n",
            "Health Care 5738.73807594492\n",
            "Miscellaneous 8820.79468299412\n",
            "NAN 2814.1867941734176\n",
            "Public Utilities 5346.762634221429\n",
            "Technology 20997.458241708067\n",
            "Transportation 5614.412897396153\n"
          ]
        }
      ]
    },
    {
      "cell_type": "code",
      "source": [
        "#keep it simple and Skip the loop\n",
        "mcap_by_sector= nasdaq_by_sector.market_cap_m.mean()\n",
        "mcap_by_sector"
      ],
      "metadata": {
        "colab": {
          "base_uri": "https://localhost:8080/"
        },
        "id": "_milmityo4Ku",
        "outputId": "b0ec00a3-1098-48b1-c009-59ddf951af69"
      },
      "execution_count": 5,
      "outputs": [
        {
          "output_type": "execute_result",
          "data": {
            "text/plain": [
              "Sector\n",
              "Basic Industries          2092.772521\n",
              "Capital Goods             3693.104680\n",
              "Consumer Durables         2732.097901\n",
              "Consumer Non-Durables     8877.318802\n",
              "Consumer Services        11061.204255\n",
              "Energy                    2538.162506\n",
              "Finance                   3018.006745\n",
              "Health Care               5738.738076\n",
              "Miscellaneous             8820.794683\n",
              "NAN                       2814.186794\n",
              "Public Utilities          5346.762634\n",
              "Technology               20997.458242\n",
              "Transportation            5614.412897\n",
              "Name: market_cap_m, dtype: float64"
            ]
          },
          "metadata": {},
          "execution_count": 5
        }
      ]
    },
    {
      "cell_type": "code",
      "source": [
        "#Visualize Category Summaries\n",
        "title= 'NASDAQ= Avg.Market Cap By Sector'\n",
        "mcap_by_sector.sort_values(ascending=True).plot(kind='barh',title=title)\n",
        "plt.xlabel('USD mn')"
      ],
      "metadata": {
        "colab": {
          "base_uri": "https://localhost:8080/",
          "height": 312
        },
        "id": "q44pRSe0pNA4",
        "outputId": "ee598ef3-2bde-4bb1-f7e2-08bd21e4e642"
      },
      "execution_count": 6,
      "outputs": [
        {
          "output_type": "execute_result",
          "data": {
            "text/plain": [
              "Text(0.5, 0, 'USD mn')"
            ]
          },
          "metadata": {},
          "execution_count": 6
        },
        {
          "output_type": "display_data",
          "data": {
            "text/plain": [
              "<Figure size 432x288 with 1 Axes>"
            ],
            "image/png": "[encoded data removed]"
          },
          "metadata": {
            "needs_background": "light"
          }
        }
      ]
    },
    {
      "cell_type": "code",
      "source": [
        "#aggregate Summary for all numeric Columns\n",
        "nasdaq_by_sector.mean()"
      ],
      "metadata": {
        "colab": {
          "base_uri": "https://localhost:8080/",
          "height": 488
        },
        "id": "_vP808ElpvP2",
        "outputId": "aaa92b23-a5bc-411b-d74c-7ece44fcdc8a"
      },
      "execution_count": 7,
      "outputs": [
        {
          "output_type": "execute_result",
          "data": {
            "text/plain": [
              "                        Last Sale  market_cap_m\n",
              "Sector                                         \n",
              "Basic Industries        48.873542   2092.772521\n",
              "Capital Goods           50.771970   3693.104680\n",
              "Consumer Durables       46.610000   2732.097901\n",
              "Consumer Non-Durables   58.374143   8877.318802\n",
              "Consumer Services       56.301904  11061.204255\n",
              "Energy                  33.387895   2538.162506\n",
              "Finance                 45.270279   3018.006745\n",
              "Health Care             52.903770   5738.738076\n",
              "Miscellaneous          108.524559   8820.794683\n",
              "NAN                     54.439937   2814.186794\n",
              "Public Utilities        25.131786   5346.762634\n",
              "Technology              52.671076  20997.458242\n",
              "Transportation          47.443077   5614.412897"
            ],
            "text/html": [
              "\n",
              "  <div id=\"df-fe3d5196-9851-4cd3-9caf-14aa3fc41efe\">\n",
              "    <div class=\"colab-df-container\">\n",
              "      <div>\n",
              "<style scoped>\n",
              "    .dataframe tbody tr th:only-of-type {\n",
              "        vertical-align: middle;\n",
              "    }\n",
              "\n",
              "    .dataframe tbody tr th {\n",
              "        vertical-align: top;\n",
              "    }\n",
              "\n",
              "    .dataframe thead th {\n",
              "        text-align: right;\n",
              "    }\n",
              "</style>\n",
              "<table border=\"1\" class=\"dataframe\">\n",
              "  <thead>\n",
              "    <tr style=\"text-align: right;\">\n",
              "      <th></th>\n",
              "      <th>Last Sale</th>\n",
              "      <th>market_cap_m</th>\n",
              "    </tr>\n",
              "    <tr>\n",
              "      <th>Sector</th>\n",
              "      <th></th>\n",
              "      <th></th>\n",
              "    </tr>\n",
              "  </thead>\n",
              "  <tbody>\n",
              "    <tr>\n",
              "      <th>Basic Industries</th>\n",
              "      <td>48.873542</td>\n",
              "      <td>2092.772521</td>\n",
              "    </tr>\n",
              "    <tr>\n",
              "      <th>Capital Goods</th>\n",
              "      <td>50.771970</td>\n",
              "      <td>3693.104680</td>\n",
              "    </tr>\n",
              "    <tr>\n",
              "      <th>Consumer Durables</th>\n",
              "      <td>46.610000</td>\n",
              "      <td>2732.097901</td>\n",
              "    </tr>\n",
              "    <tr>\n",
              "      <th>Consumer Non-Durables</th>\n",
              "      <td>58.374143</td>\n",
              "      <td>8877.318802</td>\n",
              "    </tr>\n",
              "    <tr>\n",
              "      <th>Consumer Services</th>\n",
              "      <td>56.301904</td>\n",
              "      <td>11061.204255</td>\n",
              "    </tr>\n",
              "    <tr>\n",
              "      <th>Energy</th>\n",
              "      <td>33.387895</td>\n",
              "      <td>2538.162506</td>\n",
              "    </tr>\n",
              "    <tr>\n",
              "      <th>Finance</th>\n",
              "      <td>45.270279</td>\n",
              "      <td>3018.006745</td>\n",
              "    </tr>\n",
              "    <tr>\n",
              "      <th>Health Care</th>\n",
              "      <td>52.903770</td>\n",
              "      <td>5738.738076</td>\n",
              "    </tr>\n",
              "    <tr>\n",
              "      <th>Miscellaneous</th>\n",
              "      <td>108.524559</td>\n",
              "      <td>8820.794683</td>\n",
              "    </tr>\n",
              "    <tr>\n",
              "      <th>NAN</th>\n",
              "      <td>54.439937</td>\n",
              "      <td>2814.186794</td>\n",
              "    </tr>\n",
              "    <tr>\n",
              "      <th>Public Utilities</th>\n",
              "      <td>25.131786</td>\n",
              "      <td>5346.762634</td>\n",
              "    </tr>\n",
              "    <tr>\n",
              "      <th>Technology</th>\n",
              "      <td>52.671076</td>\n",
              "      <td>20997.458242</td>\n",
              "    </tr>\n",
              "    <tr>\n",
              "      <th>Transportation</th>\n",
              "      <td>47.443077</td>\n",
              "      <td>5614.412897</td>\n",
              "    </tr>\n",
              "  </tbody>\n",
              "</table>\n",
              "</div>\n",
              "      <button class=\"colab-df-convert\" onclick=\"convertToInteractive('df-fe3d5196-9851-4cd3-9caf-14aa3fc41efe')\"\n",
              "              title=\"Convert this dataframe to an interactive table.\"\n",
              "              style=\"display:none;\">\n",
              "        \n",
              "  <svg xmlns=\"http://www.w3.org/2000/svg\" height=\"24px\"viewBox=\"0 0 24 24\"\n",
              "       width=\"24px\">\n",
              "    <path d=\"M0 0h24v24H0V0z\" fill=\"none\"/>\n",
              "    <path d=\"M18.56 5.44l.94 2.06.94-2.06 2.06-.94-2.06-.94-.94-2.06-.94 2.06-2.06.94zm-11 1L8.5 8.5l.94-2.06 2.06-.94-2.06-.94L8.5 2.5l-.94 2.06-2.06.94zm10 10l.94 2.06.94-2.06 2.06-.94-2.06-.94-.94-2.06-.94 2.06-2.06.94z\"/><path d=\"M17.41 7.96l-1.37-1.37c-.4-.4-.92-.59-1.43-.59-.52 0-1.04.2-1.43.59L10.3 9.45l-7.72 7.72c-.78.78-.78 2.05 0 2.83L4 21.41c.39.39.9.59 1.41.59.51 0 1.02-.2 1.41-.59l7.78-7.78 2.81-2.81c.8-.78.8-2.07 0-2.86zM5.41 20L4 18.59l7.72-7.72 1.47 1.35L5.41 20z\"/>\n",
              "  </svg>\n",
              "      </button>\n",
              "      \n",
              "  <style>\n",
              "    .colab-df-container {\n",
              "      display:flex;\n",
              "      flex-wrap:wrap;\n",
              "      gap: 12px;\n",
              "    }\n",
              "\n",
              "    .colab-df-convert {\n",
              "      background-color: #E8F0FE;\n",
              "      border: none;\n",
              "      border-radius: 50%;\n",
              "      cursor: pointer;\n",
              "      display: none;\n",
              "      fill: #1967D2;\n",
              "      height: 32px;\n",
              "      padding: 0 0 0 0;\n",
              "      width: 32px;\n",
              "    }\n",
              "\n",
              "    .colab-df-convert:hover {\n",
              "      background-color: #E2EBFA;\n",
              "      box-shadow: 0px 1px 2px rgba(60, 64, 67, 0.3), 0px 1px 3px 1px rgba(60, 64, 67, 0.15);\n",
              "      fill: #174EA6;\n",
              "    }\n",
              "\n",
              "    [theme=dark] .colab-df-convert {\n",
              "      background-color: #3B4455;\n",
              "      fill: #D2E3FC;\n",
              "    }\n",
              "\n",
              "    [theme=dark] .colab-df-convert:hover {\n",
              "      background-color: #434B5C;\n",
              "      box-shadow: 0px 1px 3px 1px rgba(0, 0, 0, 0.15);\n",
              "      filter: drop-shadow(0px 1px 2px rgba(0, 0, 0, 0.3));\n",
              "      fill: #FFFFFF;\n",
              "    }\n",
              "  </style>\n",
              "\n",
              "      <script>\n",
              "        const buttonEl =\n",
              "          document.querySelector('#df-fe3d5196-9851-4cd3-9caf-14aa3fc41efe button.colab-df-convert');\n",
              "        buttonEl.style.display =\n",
              "          google.colab.kernel.accessAllowed ? 'block' : 'none';\n",
              "\n",
              "        async function convertToInteractive(key) {\n",
              "          const element = document.querySelector('#df-fe3d5196-9851-4cd3-9caf-14aa3fc41efe');\n",
              "          const dataTable =\n",
              "            await google.colab.kernel.invokeFunction('convertToInteractive',\n",
              "                                                     [key], {});\n",
              "          if (!dataTable) return;\n",
              "\n",
              "          const docLinkHtml = 'Like what you see? Visit the ' +\n",
              "            '<a target=\"_blank\" href=https://colab.research.google.com/notebooks/data_table.ipynb>data table notebook</a>'\n",
              "            + ' to learn more about interactive tables.';\n",
              "          element.innerHTML = '';\n",
              "          dataTable['output_type'] = 'display_data';\n",
              "          await google.colab.output.renderOutput(dataTable, element);\n",
              "          const docLink = document.createElement('div');\n",
              "          docLink.innerHTML = docLinkHtml;\n",
              "          element.appendChild(docLink);\n",
              "        }\n",
              "      </script>\n",
              "    </div>\n",
              "  </div>\n",
              "  "
            ]
          },
          "metadata": {},
          "execution_count": 7
        }
      ]
    },
    {
      "cell_type": "markdown",
      "source": [
        "#More Ways to Aggregate Your Data"
      ],
      "metadata": {
        "id": "PuNiPkW1vjZu"
      }
    },
    {
      "cell_type": "code",
      "source": [
        "#Several Aggregations by Category\n",
        "by_sector= nasdaq.groupby('Sector')\n",
        "by_sector.market_cap_m.agg(['size','mean']).sort_values('size')"
      ],
      "metadata": {
        "id": "ZukVhOL3p2wS",
        "colab": {
          "base_uri": "https://localhost:8080/",
          "height": 488
        },
        "outputId": "85979c25-6d04-4c50-bba0-75845a4910c2"
      },
      "execution_count": 8,
      "outputs": [
        {
          "output_type": "execute_result",
          "data": {
            "text/plain": [
              "                       size          mean\n",
              "Sector                                   \n",
              "Energy                   19   2538.162506\n",
              "Basic Industries         24   2092.772521\n",
              "Consumer Durables        24   2732.097901\n",
              "Transportation           26   5614.412897\n",
              "Public Utilities         28   5346.762634\n",
              "Miscellaneous            34   8820.794683\n",
              "Consumer Non-Durables    35   8877.318802\n",
              "Capital Goods            66   3693.104680\n",
              "NAN                      79   2814.186794\n",
              "Consumer Services       173  11061.204255\n",
              "Health Care             187   5738.738076\n",
              "Finance                 197   3018.006745\n",
              "Technology              223  20997.458242"
            ],
            "text/html": [
              "\n",
              "  <div id=\"df-ae3ddcb4-e563-4266-8b22-18083271d43a\">\n",
              "    <div class=\"colab-df-container\">\n",
              "      <div>\n",
              "<style scoped>\n",
              "    .dataframe tbody tr th:only-of-type {\n",
              "        vertical-align: middle;\n",
              "    }\n",
              "\n",
              "    .dataframe tbody tr th {\n",
              "        vertical-align: top;\n",
              "    }\n",
              "\n",
              "    .dataframe thead th {\n",
              "        text-align: right;\n",
              "    }\n",
              "</style>\n",
              "<table border=\"1\" class=\"dataframe\">\n",
              "  <thead>\n",
              "    <tr style=\"text-align: right;\">\n",
              "      <th></th>\n",
              "      <th>size</th>\n",
              "      <th>mean</th>\n",
              "    </tr>\n",
              "    <tr>\n",
              "      <th>Sector</th>\n",
              "      <th></th>\n",
              "      <th></th>\n",
              "    </tr>\n",
              "  </thead>\n",
              "  <tbody>\n",
              "    <tr>\n",
              "      <th>Energy</th>\n",
              "      <td>19</td>\n",
              "      <td>2538.162506</td>\n",
              "    </tr>\n",
              "    <tr>\n",
              "      <th>Basic Industries</th>\n",
              "      <td>24</td>\n",
              "      <td>2092.772521</td>\n",
              "    </tr>\n",
              "    <tr>\n",
              "      <th>Consumer Durables</th>\n",
              "      <td>24</td>\n",
              "      <td>2732.097901</td>\n",
              "    </tr>\n",
              "    <tr>\n",
              "      <th>Transportation</th>\n",
              "      <td>26</td>\n",
              "      <td>5614.412897</td>\n",
              "    </tr>\n",
              "    <tr>\n",
              "      <th>Public Utilities</th>\n",
              "      <td>28</td>\n",
              "      <td>5346.762634</td>\n",
              "    </tr>\n",
              "    <tr>\n",
              "      <th>Miscellaneous</th>\n",
              "      <td>34</td>\n",
              "      <td>8820.794683</td>\n",
              "    </tr>\n",
              "    <tr>\n",
              "      <th>Consumer Non-Durables</th>\n",
              "      <td>35</td>\n",
              "      <td>8877.318802</td>\n",
              "    </tr>\n",
              "    <tr>\n",
              "      <th>Capital Goods</th>\n",
              "      <td>66</td>\n",
              "      <td>3693.104680</td>\n",
              "    </tr>\n",
              "    <tr>\n",
              "      <th>NAN</th>\n",
              "      <td>79</td>\n",
              "      <td>2814.186794</td>\n",
              "    </tr>\n",
              "    <tr>\n",
              "      <th>Consumer Services</th>\n",
              "      <td>173</td>\n",
              "      <td>11061.204255</td>\n",
              "    </tr>\n",
              "    <tr>\n",
              "      <th>Health Care</th>\n",
              "      <td>187</td>\n",
              "      <td>5738.738076</td>\n",
              "    </tr>\n",
              "    <tr>\n",
              "      <th>Finance</th>\n",
              "      <td>197</td>\n",
              "      <td>3018.006745</td>\n",
              "    </tr>\n",
              "    <tr>\n",
              "      <th>Technology</th>\n",
              "      <td>223</td>\n",
              "      <td>20997.458242</td>\n",
              "    </tr>\n",
              "  </tbody>\n",
              "</table>\n",
              "</div>\n",
              "      <button class=\"colab-df-convert\" onclick=\"convertToInteractive('df-ae3ddcb4-e563-4266-8b22-18083271d43a')\"\n",
              "              title=\"Convert this dataframe to an interactive table.\"\n",
              "              style=\"display:none;\">\n",
              "        \n",
              "  <svg xmlns=\"http://www.w3.org/2000/svg\" height=\"24px\"viewBox=\"0 0 24 24\"\n",
              "       width=\"24px\">\n",
              "    <path d=\"M0 0h24v24H0V0z\" fill=\"none\"/>\n",
              "    <path d=\"M18.56 5.44l.94 2.06.94-2.06 2.06-.94-2.06-.94-.94-2.06-.94 2.06-2.06.94zm-11 1L8.5 8.5l.94-2.06 2.06-.94-2.06-.94L8.5 2.5l-.94 2.06-2.06.94zm10 10l.94 2.06.94-2.06 2.06-.94-2.06-.94-.94-2.06-.94 2.06-2.06.94z\"/><path d=\"M17.41 7.96l-1.37-1.37c-.4-.4-.92-.59-1.43-.59-.52 0-1.04.2-1.43.59L10.3 9.45l-7.72 7.72c-.78.78-.78 2.05 0 2.83L4 21.41c.39.39.9.59 1.41.59.51 0 1.02-.2 1.41-.59l7.78-7.78 2.81-2.81c.8-.78.8-2.07 0-2.86zM5.41 20L4 18.59l7.72-7.72 1.47 1.35L5.41 20z\"/>\n",
              "  </svg>\n",
              "      </button>\n",
              "      \n",
              "  <style>\n",
              "    .colab-df-container {\n",
              "      display:flex;\n",
              "      flex-wrap:wrap;\n",
              "      gap: 12px;\n",
              "    }\n",
              "\n",
              "    .colab-df-convert {\n",
              "      background-color: #E8F0FE;\n",
              "      border: none;\n",
              "      border-radius: 50%;\n",
              "      cursor: pointer;\n",
              "      display: none;\n",
              "      fill: #1967D2;\n",
              "      height: 32px;\n",
              "      padding: 0 0 0 0;\n",
              "      width: 32px;\n",
              "    }\n",
              "\n",
              "    .colab-df-convert:hover {\n",
              "      background-color: #E2EBFA;\n",
              "      box-shadow: 0px 1px 2px rgba(60, 64, 67, 0.3), 0px 1px 3px 1px rgba(60, 64, 67, 0.15);\n",
              "      fill: #174EA6;\n",
              "    }\n",
              "\n",
              "    [theme=dark] .colab-df-convert {\n",
              "      background-color: #3B4455;\n",
              "      fill: #D2E3FC;\n",
              "    }\n",
              "\n",
              "    [theme=dark] .colab-df-convert:hover {\n",
              "      background-color: #434B5C;\n",
              "      box-shadow: 0px 1px 3px 1px rgba(0, 0, 0, 0.15);\n",
              "      filter: drop-shadow(0px 1px 2px rgba(0, 0, 0, 0.3));\n",
              "      fill: #FFFFFF;\n",
              "    }\n",
              "  </style>\n",
              "\n",
              "      <script>\n",
              "        const buttonEl =\n",
              "          document.querySelector('#df-ae3ddcb4-e563-4266-8b22-18083271d43a button.colab-df-convert');\n",
              "        buttonEl.style.display =\n",
              "          google.colab.kernel.accessAllowed ? 'block' : 'none';\n",
              "\n",
              "        async function convertToInteractive(key) {\n",
              "          const element = document.querySelector('#df-ae3ddcb4-e563-4266-8b22-18083271d43a');\n",
              "          const dataTable =\n",
              "            await google.colab.kernel.invokeFunction('convertToInteractive',\n",
              "                                                     [key], {});\n",
              "          if (!dataTable) return;\n",
              "\n",
              "          const docLinkHtml = 'Like what you see? Visit the ' +\n",
              "            '<a target=\"_blank\" href=https://colab.research.google.com/notebooks/data_table.ipynb>data table notebook</a>'\n",
              "            + ' to learn more about interactive tables.';\n",
              "          element.innerHTML = '';\n",
              "          dataTable['output_type'] = 'display_data';\n",
              "          await google.colab.output.renderOutput(dataTable, element);\n",
              "          const docLink = document.createElement('div');\n",
              "          docLink.innerHTML = docLinkHtml;\n",
              "          element.appendChild(docLink);\n",
              "        }\n",
              "      </script>\n",
              "    </div>\n",
              "  </div>\n",
              "  "
            ]
          },
          "metadata": {},
          "execution_count": 8
        }
      ]
    },
    {
      "cell_type": "code",
      "source": [
        "#Several aggregation plus new labels\n",
        "by_sector.market_cap_m.agg(['size','mean']).rename(columns={'size': '#obs','mean': 'Average'})"
      ],
      "metadata": {
        "colab": {
          "base_uri": "https://localhost:8080/",
          "height": 488
        },
        "id": "9SKcIo4_wckj",
        "outputId": "e9ea1db1-5881-44ed-ac22-cd4ea5f2ac17"
      },
      "execution_count": 9,
      "outputs": [
        {
          "output_type": "execute_result",
          "data": {
            "text/plain": [
              "                       #obs       Average\n",
              "Sector                                   \n",
              "Basic Industries         24   2092.772521\n",
              "Capital Goods            66   3693.104680\n",
              "Consumer Durables        24   2732.097901\n",
              "Consumer Non-Durables    35   8877.318802\n",
              "Consumer Services       173  11061.204255\n",
              "Energy                   19   2538.162506\n",
              "Finance                 197   3018.006745\n",
              "Health Care             187   5738.738076\n",
              "Miscellaneous            34   8820.794683\n",
              "NAN                      79   2814.186794\n",
              "Public Utilities         28   5346.762634\n",
              "Technology              223  20997.458242\n",
              "Transportation           26   5614.412897"
            ],
            "text/html": [
              "\n",
              "  <div id=\"df-9b0cbe7a-c544-470f-8ea0-55ac008bbf28\">\n",
              "    <div class=\"colab-df-container\">\n",
              "      <div>\n",
              "<style scoped>\n",
              "    .dataframe tbody tr th:only-of-type {\n",
              "        vertical-align: middle;\n",
              "    }\n",
              "\n",
              "    .dataframe tbody tr th {\n",
              "        vertical-align: top;\n",
              "    }\n",
              "\n",
              "    .dataframe thead th {\n",
              "        text-align: right;\n",
              "    }\n",
              "</style>\n",
              "<table border=\"1\" class=\"dataframe\">\n",
              "  <thead>\n",
              "    <tr style=\"text-align: right;\">\n",
              "      <th></th>\n",
              "      <th>#obs</th>\n",
              "      <th>Average</th>\n",
              "    </tr>\n",
              "    <tr>\n",
              "      <th>Sector</th>\n",
              "      <th></th>\n",
              "      <th></th>\n",
              "    </tr>\n",
              "  </thead>\n",
              "  <tbody>\n",
              "    <tr>\n",
              "      <th>Basic Industries</th>\n",
              "      <td>24</td>\n",
              "      <td>2092.772521</td>\n",
              "    </tr>\n",
              "    <tr>\n",
              "      <th>Capital Goods</th>\n",
              "      <td>66</td>\n",
              "      <td>3693.104680</td>\n",
              "    </tr>\n",
              "    <tr>\n",
              "      <th>Consumer Durables</th>\n",
              "      <td>24</td>\n",
              "      <td>2732.097901</td>\n",
              "    </tr>\n",
              "    <tr>\n",
              "      <th>Consumer Non-Durables</th>\n",
              "      <td>35</td>\n",
              "      <td>8877.318802</td>\n",
              "    </tr>\n",
              "    <tr>\n",
              "      <th>Consumer Services</th>\n",
              "      <td>173</td>\n",
              "      <td>11061.204255</td>\n",
              "    </tr>\n",
              "    <tr>\n",
              "      <th>Energy</th>\n",
              "      <td>19</td>\n",
              "      <td>2538.162506</td>\n",
              "    </tr>\n",
              "    <tr>\n",
              "      <th>Finance</th>\n",
              "      <td>197</td>\n",
              "      <td>3018.006745</td>\n",
              "    </tr>\n",
              "    <tr>\n",
              "      <th>Health Care</th>\n",
              "      <td>187</td>\n",
              "      <td>5738.738076</td>\n",
              "    </tr>\n",
              "    <tr>\n",
              "      <th>Miscellaneous</th>\n",
              "      <td>34</td>\n",
              "      <td>8820.794683</td>\n",
              "    </tr>\n",
              "    <tr>\n",
              "      <th>NAN</th>\n",
              "      <td>79</td>\n",
              "      <td>2814.186794</td>\n",
              "    </tr>\n",
              "    <tr>\n",
              "      <th>Public Utilities</th>\n",
              "      <td>28</td>\n",
              "      <td>5346.762634</td>\n",
              "    </tr>\n",
              "    <tr>\n",
              "      <th>Technology</th>\n",
              "      <td>223</td>\n",
              "      <td>20997.458242</td>\n",
              "    </tr>\n",
              "    <tr>\n",
              "      <th>Transportation</th>\n",
              "      <td>26</td>\n",
              "      <td>5614.412897</td>\n",
              "    </tr>\n",
              "  </tbody>\n",
              "</table>\n",
              "</div>\n",
              "      <button class=\"colab-df-convert\" onclick=\"convertToInteractive('df-9b0cbe7a-c544-470f-8ea0-55ac008bbf28')\"\n",
              "              title=\"Convert this dataframe to an interactive table.\"\n",
              "              style=\"display:none;\">\n",
              "        \n",
              "  <svg xmlns=\"http://www.w3.org/2000/svg\" height=\"24px\"viewBox=\"0 0 24 24\"\n",
              "       width=\"24px\">\n",
              "    <path d=\"M0 0h24v24H0V0z\" fill=\"none\"/>\n",
              "    <path d=\"M18.56 5.44l.94 2.06.94-2.06 2.06-.94-2.06-.94-.94-2.06-.94 2.06-2.06.94zm-11 1L8.5 8.5l.94-2.06 2.06-.94-2.06-.94L8.5 2.5l-.94 2.06-2.06.94zm10 10l.94 2.06.94-2.06 2.06-.94-2.06-.94-.94-2.06-.94 2.06-2.06.94z\"/><path d=\"M17.41 7.96l-1.37-1.37c-.4-.4-.92-.59-1.43-.59-.52 0-1.04.2-1.43.59L10.3 9.45l-7.72 7.72c-.78.78-.78 2.05 0 2.83L4 21.41c.39.39.9.59 1.41.59.51 0 1.02-.2 1.41-.59l7.78-7.78 2.81-2.81c.8-.78.8-2.07 0-2.86zM5.41 20L4 18.59l7.72-7.72 1.47 1.35L5.41 20z\"/>\n",
              "  </svg>\n",
              "      </button>\n",
              "      \n",
              "  <style>\n",
              "    .colab-df-container {\n",
              "      display:flex;\n",
              "      flex-wrap:wrap;\n",
              "      gap: 12px;\n",
              "    }\n",
              "\n",
              "    .colab-df-convert {\n",
              "      background-color: #E8F0FE;\n",
              "      border: none;\n",
              "      border-radius: 50%;\n",
              "      cursor: pointer;\n",
              "      display: none;\n",
              "      fill: #1967D2;\n",
              "      height: 32px;\n",
              "      padding: 0 0 0 0;\n",
              "      width: 32px;\n",
              "    }\n",
              "\n",
              "    .colab-df-convert:hover {\n",
              "      background-color: #E2EBFA;\n",
              "      box-shadow: 0px 1px 2px rgba(60, 64, 67, 0.3), 0px 1px 3px 1px rgba(60, 64, 67, 0.15);\n",
              "      fill: #174EA6;\n",
              "    }\n",
              "\n",
              "    [theme=dark] .colab-df-convert {\n",
              "      background-color: #3B4455;\n",
              "      fill: #D2E3FC;\n",
              "    }\n",
              "\n",
              "    [theme=dark] .colab-df-convert:hover {\n",
              "      background-color: #434B5C;\n",
              "      box-shadow: 0px 1px 3px 1px rgba(0, 0, 0, 0.15);\n",
              "      filter: drop-shadow(0px 1px 2px rgba(0, 0, 0, 0.3));\n",
              "      fill: #FFFFFF;\n",
              "    }\n",
              "  </style>\n",
              "\n",
              "      <script>\n",
              "        const buttonEl =\n",
              "          document.querySelector('#df-9b0cbe7a-c544-470f-8ea0-55ac008bbf28 button.colab-df-convert');\n",
              "        buttonEl.style.display =\n",
              "          google.colab.kernel.accessAllowed ? 'block' : 'none';\n",
              "\n",
              "        async function convertToInteractive(key) {\n",
              "          const element = document.querySelector('#df-9b0cbe7a-c544-470f-8ea0-55ac008bbf28');\n",
              "          const dataTable =\n",
              "            await google.colab.kernel.invokeFunction('convertToInteractive',\n",
              "                                                     [key], {});\n",
              "          if (!dataTable) return;\n",
              "\n",
              "          const docLinkHtml = 'Like what you see? Visit the ' +\n",
              "            '<a target=\"_blank\" href=https://colab.research.google.com/notebooks/data_table.ipynb>data table notebook</a>'\n",
              "            + ' to learn more about interactive tables.';\n",
              "          element.innerHTML = '';\n",
              "          dataTable['output_type'] = 'display_data';\n",
              "          await google.colab.output.renderOutput(dataTable, element);\n",
              "          const docLink = document.createElement('div');\n",
              "          docLink.innerHTML = docLinkHtml;\n",
              "          element.appendChild(docLink);\n",
              "        }\n",
              "      </script>\n",
              "    </div>\n",
              "  </div>\n",
              "  "
            ]
          },
          "metadata": {},
          "execution_count": 9
        }
      ]
    },
    {
      "cell_type": "code",
      "source": [
        "#Different Statistics by Column\n",
        "by_sector.agg({'market_cap_m':'size', 'IPO Year':'median'})"
      ],
      "metadata": {
        "colab": {
          "base_uri": "https://localhost:8080/",
          "height": 488
        },
        "id": "iOMNm_W0xXTy",
        "outputId": "397629a4-63e4-4684-93e1-af88a9d68755"
      },
      "execution_count": 10,
      "outputs": [
        {
          "output_type": "execute_result",
          "data": {
            "text/plain": [
              "                       market_cap_m  IPO Year\n",
              "Sector                                       \n",
              "Basic Industries                 24    1994.5\n",
              "Capital Goods                    66    1997.0\n",
              "Consumer Durables                24    1998.0\n",
              "Consumer Non-Durables            35    1996.0\n",
              "Consumer Services               173    2003.0\n",
              "Energy                           19    2012.0\n",
              "Finance                         197    2005.0\n",
              "Health Care                     187    2011.0\n",
              "Miscellaneous                    34    2006.0\n",
              "NAN                              79    2008.0\n",
              "Public Utilities                 28    2013.5\n",
              "Technology                      223    2001.0\n",
              "Transportation                   26    1996.0"
            ],
            "text/html": [
              "\n",
              "  <div id=\"df-0436542b-2019-4f60-b9c5-e6b7454ed087\">\n",
              "    <div class=\"colab-df-container\">\n",
              "      <div>\n",
              "<style scoped>\n",
              "    .dataframe tbody tr th:only-of-type {\n",
              "        vertical-align: middle;\n",
              "    }\n",
              "\n",
              "    .dataframe tbody tr th {\n",
              "        vertical-align: top;\n",
              "    }\n",
              "\n",
              "    .dataframe thead th {\n",
              "        text-align: right;\n",
              "    }\n",
              "</style>\n",
              "<table border=\"1\" class=\"dataframe\">\n",
              "  <thead>\n",
              "    <tr style=\"text-align: right;\">\n",
              "      <th></th>\n",
              "      <th>market_cap_m</th>\n",
              "      <th>IPO Year</th>\n",
              "    </tr>\n",
              "    <tr>\n",
              "      <th>Sector</th>\n",
              "      <th></th>\n",
              "      <th></th>\n",
              "    </tr>\n",
              "  </thead>\n",
              "  <tbody>\n",
              "    <tr>\n",
              "      <th>Basic Industries</th>\n",
              "      <td>24</td>\n",
              "      <td>1994.5</td>\n",
              "    </tr>\n",
              "    <tr>\n",
              "      <th>Capital Goods</th>\n",
              "      <td>66</td>\n",
              "      <td>1997.0</td>\n",
              "    </tr>\n",
              "    <tr>\n",
              "      <th>Consumer Durables</th>\n",
              "      <td>24</td>\n",
              "      <td>1998.0</td>\n",
              "    </tr>\n",
              "    <tr>\n",
              "      <th>Consumer Non-Durables</th>\n",
              "      <td>35</td>\n",
              "      <td>1996.0</td>\n",
              "    </tr>\n",
              "    <tr>\n",
              "      <th>Consumer Services</th>\n",
              "      <td>173</td>\n",
              "      <td>2003.0</td>\n",
              "    </tr>\n",
              "    <tr>\n",
              "      <th>Energy</th>\n",
              "      <td>19</td>\n",
              "      <td>2012.0</td>\n",
              "    </tr>\n",
              "    <tr>\n",
              "      <th>Finance</th>\n",
              "      <td>197</td>\n",
              "      <td>2005.0</td>\n",
              "    </tr>\n",
              "    <tr>\n",
              "      <th>Health Care</th>\n",
              "      <td>187</td>\n",
              "      <td>2011.0</td>\n",
              "    </tr>\n",
              "    <tr>\n",
              "      <th>Miscellaneous</th>\n",
              "      <td>34</td>\n",
              "      <td>2006.0</td>\n",
              "    </tr>\n",
              "    <tr>\n",
              "      <th>NAN</th>\n",
              "      <td>79</td>\n",
              "      <td>2008.0</td>\n",
              "    </tr>\n",
              "    <tr>\n",
              "      <th>Public Utilities</th>\n",
              "      <td>28</td>\n",
              "      <td>2013.5</td>\n",
              "    </tr>\n",
              "    <tr>\n",
              "      <th>Technology</th>\n",
              "      <td>223</td>\n",
              "      <td>2001.0</td>\n",
              "    </tr>\n",
              "    <tr>\n",
              "      <th>Transportation</th>\n",
              "      <td>26</td>\n",
              "      <td>1996.0</td>\n",
              "    </tr>\n",
              "  </tbody>\n",
              "</table>\n",
              "</div>\n",
              "      <button class=\"colab-df-convert\" onclick=\"convertToInteractive('df-0436542b-2019-4f60-b9c5-e6b7454ed087')\"\n",
              "              title=\"Convert this dataframe to an interactive table.\"\n",
              "              style=\"display:none;\">\n",
              "        \n",
              "  <svg xmlns=\"http://www.w3.org/2000/svg\" height=\"24px\"viewBox=\"0 0 24 24\"\n",
              "       width=\"24px\">\n",
              "    <path d=\"M0 0h24v24H0V0z\" fill=\"none\"/>\n",
              "    <path d=\"M18.56 5.44l.94 2.06.94-2.06 2.06-.94-2.06-.94-.94-2.06-.94 2.06-2.06.94zm-11 1L8.5 8.5l.94-2.06 2.06-.94-2.06-.94L8.5 2.5l-.94 2.06-2.06.94zm10 10l.94 2.06.94-2.06 2.06-.94-2.06-.94-.94-2.06-.94 2.06-2.06.94z\"/><path d=\"M17.41 7.96l-1.37-1.37c-.4-.4-.92-.59-1.43-.59-.52 0-1.04.2-1.43.59L10.3 9.45l-7.72 7.72c-.78.78-.78 2.05 0 2.83L4 21.41c.39.39.9.59 1.41.59.51 0 1.02-.2 1.41-.59l7.78-7.78 2.81-2.81c.8-.78.8-2.07 0-2.86zM5.41 20L4 18.59l7.72-7.72 1.47 1.35L5.41 20z\"/>\n",
              "  </svg>\n",
              "      </button>\n",
              "      \n",
              "  <style>\n",
              "    .colab-df-container {\n",
              "      display:flex;\n",
              "      flex-wrap:wrap;\n",
              "      gap: 12px;\n",
              "    }\n",
              "\n",
              "    .colab-df-convert {\n",
              "      background-color: #E8F0FE;\n",
              "      border: none;\n",
              "      border-radius: 50%;\n",
              "      cursor: pointer;\n",
              "      display: none;\n",
              "      fill: #1967D2;\n",
              "      height: 32px;\n",
              "      padding: 0 0 0 0;\n",
              "      width: 32px;\n",
              "    }\n",
              "\n",
              "    .colab-df-convert:hover {\n",
              "      background-color: #E2EBFA;\n",
              "      box-shadow: 0px 1px 2px rgba(60, 64, 67, 0.3), 0px 1px 3px 1px rgba(60, 64, 67, 0.15);\n",
              "      fill: #174EA6;\n",
              "    }\n",
              "\n",
              "    [theme=dark] .colab-df-convert {\n",
              "      background-color: #3B4455;\n",
              "      fill: #D2E3FC;\n",
              "    }\n",
              "\n",
              "    [theme=dark] .colab-df-convert:hover {\n",
              "      background-color: #434B5C;\n",
              "      box-shadow: 0px 1px 3px 1px rgba(0, 0, 0, 0.15);\n",
              "      filter: drop-shadow(0px 1px 2px rgba(0, 0, 0, 0.3));\n",
              "      fill: #FFFFFF;\n",
              "    }\n",
              "  </style>\n",
              "\n",
              "      <script>\n",
              "        const buttonEl =\n",
              "          document.querySelector('#df-0436542b-2019-4f60-b9c5-e6b7454ed087 button.colab-df-convert');\n",
              "        buttonEl.style.display =\n",
              "          google.colab.kernel.accessAllowed ? 'block' : 'none';\n",
              "\n",
              "        async function convertToInteractive(key) {\n",
              "          const element = document.querySelector('#df-0436542b-2019-4f60-b9c5-e6b7454ed087');\n",
              "          const dataTable =\n",
              "            await google.colab.kernel.invokeFunction('convertToInteractive',\n",
              "                                                     [key], {});\n",
              "          if (!dataTable) return;\n",
              "\n",
              "          const docLinkHtml = 'Like what you see? Visit the ' +\n",
              "            '<a target=\"_blank\" href=https://colab.research.google.com/notebooks/data_table.ipynb>data table notebook</a>'\n",
              "            + ' to learn more about interactive tables.';\n",
              "          element.innerHTML = '';\n",
              "          dataTable['output_type'] = 'display_data';\n",
              "          await google.colab.output.renderOutput(dataTable, element);\n",
              "          const docLink = document.createElement('div');\n",
              "          docLink.innerHTML = docLinkHtml;\n",
              "          element.appendChild(docLink);\n",
              "        }\n",
              "      </script>\n",
              "    </div>\n",
              "  </div>\n",
              "  "
            ]
          },
          "metadata": {},
          "execution_count": 10
        }
      ]
    },
    {
      "cell_type": "code",
      "source": [
        "#Aggregate by two Categories\n",
        "by_sector_year = nasdaq.groupby(['Sector','IPO Year'])\n",
        "by_sector_year.market_cap_m.mean()"
      ],
      "metadata": {
        "colab": {
          "base_uri": "https://localhost:8080/"
        },
        "id": "BmS_u36GxvXk",
        "outputId": "35ae9c62-065e-4caf-ba18-6735be9602ab"
      },
      "execution_count": 11,
      "outputs": [
        {
          "output_type": "execute_result",
          "data": {
            "text/plain": [
              "Sector            IPO Year\n",
              "Basic Industries  1972         877.240005\n",
              "                  1973        1445.697371\n",
              "                  1986        1396.817381\n",
              "                  1993        1933.224036\n",
              "                  1996        5325.317586\n",
              "                                 ...     \n",
              "Transportation    2002        6914.854068\n",
              "                  2006        2529.317235\n",
              "                  2009         552.445919\n",
              "                  2011        3711.638317\n",
              "                  NAN         7358.862786\n",
              "Name: market_cap_m, Length: 240, dtype: float64"
            ]
          },
          "metadata": {},
          "execution_count": 11
        }
      ]
    },
    {
      "cell_type": "code",
      "source": [
        "#Select from MultiIndex\n",
        "mcap_sector_year = by_sector_year.market_cap_m.mean()\n",
        "mcap_sector_year.loc['Basic Industries']"
      ],
      "metadata": {
        "colab": {
          "base_uri": "https://localhost:8080/"
        },
        "id": "Zz7qlGlEyKUt",
        "outputId": "e5ed99af-c499-4e1b-d1e0-c32bf719b74b"
      },
      "execution_count": 12,
      "outputs": [
        {
          "output_type": "execute_result",
          "data": {
            "text/plain": [
              "IPO Year\n",
              "1972     877.240005\n",
              "1973    1445.697371\n",
              "1986    1396.817381\n",
              "1993    1933.224036\n",
              "1996    5325.317586\n",
              "2015     640.776045\n",
              "NAN     1747.302056\n",
              "Name: market_cap_m, dtype: float64"
            ]
          },
          "metadata": {},
          "execution_count": 12
        }
      ]
    },
    {
      "cell_type": "code",
      "source": [
        "mcap_sector_year.loc[['Basic Industries', 'Transportation']]"
      ],
      "metadata": {
        "colab": {
          "base_uri": "https://localhost:8080/"
        },
        "id": "R_4kYKB-yuPS",
        "outputId": "8dc8ea66-2874-48a7-d3e0-59ad33a4a877"
      },
      "execution_count": 13,
      "outputs": [
        {
          "output_type": "execute_result",
          "data": {
            "text/plain": [
              "Sector            IPO Year\n",
              "Basic Industries  1972         877.240005\n",
              "                  1973        1445.697371\n",
              "                  1986        1396.817381\n",
              "                  1993        1933.224036\n",
              "                  1996        5325.317586\n",
              "                  2015         640.776045\n",
              "                  NAN         1747.302056\n",
              "Transportation    1986        1446.557669\n",
              "                  1991        6646.778622\n",
              "                  1993        3474.796885\n",
              "                  1996        1329.873667\n",
              "                  1997        9681.791864\n",
              "                  2002        6914.854068\n",
              "                  2006        2529.317235\n",
              "                  2009         552.445919\n",
              "                  2011        3711.638317\n",
              "                  NAN         7358.862786\n",
              "Name: market_cap_m, dtype: float64"
            ]
          },
          "metadata": {},
          "execution_count": 13
        }
      ]
    },
    {
      "cell_type": "markdown",
      "source": [
        "#Summary Statistics by Category with Seaborn"
      ],
      "metadata": {
        "id": "xRJPhPMs5N09"
      }
    },
    {
      "cell_type": "code",
      "source": [
        "import seaborn as sns"
      ],
      "metadata": {
        "id": "vJjSeyt9zEDJ"
      },
      "execution_count": 14,
      "outputs": []
    },
    {
      "cell_type": "code",
      "source": [
        "#basic Countplot\n",
        "sns.countplot(x='Sector',data=nasdaq)\n",
        "plt.xticks(rotation=90)"
      ],
      "metadata": {
        "colab": {
          "base_uri": "https://localhost:8080/",
          "height": 427
        },
        "id": "_ka-xVpZ5ZeN",
        "outputId": "d3c1b5e7-128b-4287-9d20-27795c953037"
      },
      "execution_count": 15,
      "outputs": [
        {
          "output_type": "execute_result",
          "data": {
            "text/plain": [
              "(array([ 0,  1,  2,  3,  4,  5,  6,  7,  8,  9, 10, 11, 12]),\n",
              " <a list of 13 Text major ticklabel objects>)"
            ]
          },
          "metadata": {},
          "execution_count": 15
        },
        {
          "output_type": "display_data",
          "data": {
            "text/plain": [
              "<Figure size 432x288 with 1 Axes>"
            ],
            "image/png": "[encoded data removed]"
          },
          "metadata": {
            "needs_background": "light"
          }
        }
      ]
    },
    {
      "cell_type": "code",
      "source": [
        "#countplot,sorted\n",
        "sector_size= nasdaq.groupby('Sector').size()\n",
        "order = sector_size.sort_values(ascending=False)\n",
        "order.head()"
      ],
      "metadata": {
        "colab": {
          "base_uri": "https://localhost:8080/"
        },
        "id": "K4a5VKCW5oM6",
        "outputId": "278b52f2-a471-4bf4-d9fd-6df90aa776cf"
      },
      "execution_count": 16,
      "outputs": [
        {
          "output_type": "execute_result",
          "data": {
            "text/plain": [
              "Sector\n",
              "Technology           223\n",
              "Finance              197\n",
              "Health Care          187\n",
              "Consumer Services    173\n",
              "NAN                   79\n",
              "dtype: int64"
            ]
          },
          "metadata": {},
          "execution_count": 16
        }
      ]
    },
    {
      "cell_type": "code",
      "source": [
        "order =order.index.tolist()"
      ],
      "metadata": {
        "id": "HmNLXs5j6XaI"
      },
      "execution_count": 17,
      "outputs": []
    },
    {
      "cell_type": "code",
      "source": [
        "order"
      ],
      "metadata": {
        "colab": {
          "base_uri": "https://localhost:8080/"
        },
        "id": "Vk1WL0Hz6d0W",
        "outputId": "1d6cad0c-967e-44ca-86d9-24f28b11e3f2"
      },
      "execution_count": 18,
      "outputs": [
        {
          "output_type": "execute_result",
          "data": {
            "text/plain": [
              "['Technology',\n",
              " 'Finance',\n",
              " 'Health Care',\n",
              " 'Consumer Services',\n",
              " 'NAN',\n",
              " 'Capital Goods',\n",
              " 'Consumer Non-Durables',\n",
              " 'Miscellaneous',\n",
              " 'Public Utilities',\n",
              " 'Transportation',\n",
              " 'Basic Industries',\n",
              " 'Consumer Durables',\n",
              " 'Energy']"
            ]
          },
          "metadata": {},
          "execution_count": 18
        }
      ]
    },
    {
      "cell_type": "code",
      "source": [
        "sns.countplot(x='Sector',data=nasdaq,order=order)\n",
        "plt.xticks(rotation=90)\n",
        "plt.title('# Observations per Sector')"
      ],
      "metadata": {
        "colab": {
          "base_uri": "https://localhost:8080/",
          "height": 425
        },
        "id": "5aFy1Woq6mca",
        "outputId": "0316bb7f-0525-4300-b76b-507f1c68b22e"
      },
      "execution_count": 22,
      "outputs": [
        {
          "output_type": "execute_result",
          "data": {
            "text/plain": [
              "Text(0.5, 1.0, '# Observations per Sector')"
            ]
          },
          "metadata": {},
          "execution_count": 22
        },
        {
          "output_type": "display_data",
          "data": {
            "text/plain": [
              "<Figure size 432x288 with 1 Axes>"
            ],
            "image/png": "[encoded data removed]"
          },
          "metadata": {
            "needs_background": "light"
          }
        }
      ]
    },
    {
      "cell_type": "code",
      "source": [
        "#CountPlot, Multiple Categories\n",
        "\n",
        "recent_ipos = nasdaq[nasdaq['IPO Year'].astype(float) > 2014.0]\n",
        "recent_ipos['IPO Year']= recent_ipos['IPO Year'].astype(int)\n",
        "sns.countplot(x='Sector', hue= 'IPO Year', data = recent_ipos)\n",
        "plt.xticks(rotation=90)"
      ],
      "metadata": {
        "colab": {
          "base_uri": "https://localhost:8080/",
          "height": 531
        },
        "id": "9nl8j-VQ69wd",
        "outputId": "88094939-cb42-4b8a-a666-bdbde048e591"
      },
      "execution_count": 20,
      "outputs": [
        {
          "output_type": "stream",
          "name": "stderr",
          "text": [
            "<ipython-input-20-2b9565b10234>:4: SettingWithCopyWarning: \n",
            "A value is trying to be set on a copy of a slice from a DataFrame.\n",
            "Try using .loc[row_indexer,col_indexer] = value instead\n",
            "\n",
            "See the caveats in the documentation: https://pandas.pydata.org/pandas-docs/stable/user_guide/indexing.html#returning-a-view-versus-a-copy\n",
            "  recent_ipos['IPO Year']= recent_ipos['IPO Year'].astype(int)\n"
          ]
        },
        {
          "output_type": "execute_result",
          "data": {
            "text/plain": [
              "(array([ 0,  1,  2,  3,  4,  5,  6,  7,  8,  9, 10]),\n",
              " <a list of 11 Text major ticklabel objects>)"
            ]
          },
          "metadata": {},
          "execution_count": 20
        },
        {
          "output_type": "display_data",
          "data": {
            "text/plain": [
              "<Figure size 432x288 with 1 Axes>"
            ],
            "image/png": "[encoded data removed]"
          },
          "metadata": {
            "needs_background": "light"
          }
        }
      ]
    },
    {
      "cell_type": "code",
      "source": [
        "#Compare Stats with PointPlot\n",
        "\n",
        "nasdaq['IPO']= nasdaq['IPO Year'].astype(float).apply(lambda x: 'After 2000' if x > 2000 else 'Before 2000')\n",
        "sns.pointplot(x='Sector', y= 'market_cap_m', hue='IPO',data=nasdaq)\n",
        "plt.xticks(rotation=90);plt.title('Mean Market Cap')"
      ],
      "metadata": {
        "colab": {
          "base_uri": "https://localhost:8080/",
          "height": 425
        },
        "id": "JjNiXGw--j9f",
        "outputId": "694ebf22-8517-44ed-97f3-eeeae2395234"
      },
      "execution_count": 21,
      "outputs": [
        {
          "output_type": "execute_result",
          "data": {
            "text/plain": [
              "Text(0.5, 1.0, 'Mean Market Cap')"
            ]
          },
          "metadata": {},
          "execution_count": 21
        },
        {
          "output_type": "display_data",
          "data": {
            "text/plain": [
              "<Figure size 432x288 with 1 Axes>"
            ],
            "image/png": "[encoded data removed]"
          },
          "metadata": {
            "needs_background": "light"
          }
        }
      ]
    },
    {
      "cell_type": "markdown",
      "source": [
        "#Distribution by Category"
      ],
      "metadata": {
        "id": "Yqu3D6HZxkAN"
      }
    },
    {
      "cell_type": "code",
      "source": [
        "#Clean data: Remove outliers\n",
        "nasdaq = pd.read_excel('listings.xlsx',sheet_name= 'nasdaq',na_values ='n/a')\n",
        "nasdaq['market_cap_m']=nasdaq['Market Capitalization'].div(1e6)\n",
        "nasdaq= nasdaq[nasdaq.market_cap_m>0] #Active companies only\n",
        "outliers = nasdaq.market_cap_m.quantile(.9) # outlier threshold\n",
        "nasdaq =nasdaq[nasdaq.market_cap_m< outliers] # remove outliers"
      ],
      "metadata": {
        "id": "XrAqOzJjAnLn",
        "colab": {
          "base_uri": "https://localhost:8080/"
        },
        "outputId": "e076af48-8c7a-46bf-ed2e-5b4614f318b3"
      },
      "execution_count": 23,
      "outputs": [
        {
          "output_type": "stream",
          "name": "stderr",
          "text": [
            "/usr/local/lib/python3.8/dist-packages/openpyxl/worksheet/_reader.py:312: UserWarning: Unknown extension is not supported and will be removed\n",
            "  warn(msg)\n"
          ]
        }
      ]
    },
    {
      "cell_type": "code",
      "source": [
        "#BoxPlot: Quartiles and Outliers\n",
        "sns.boxplot(x='Sector',y= 'market_cap_m',data=nasdaq)\n",
        "plt.xticks(rotation=90)"
      ],
      "metadata": {
        "colab": {
          "base_uri": "https://localhost:8080/",
          "height": 427
        },
        "id": "LebzCvznyse0",
        "outputId": "bcfc733b-39cb-4490-c495-d26171c41433"
      },
      "execution_count": 24,
      "outputs": [
        {
          "output_type": "execute_result",
          "data": {
            "text/plain": [
              "(array([ 0,  1,  2,  3,  4,  5,  6,  7,  8,  9, 10, 11]),\n",
              " <a list of 12 Text major ticklabel objects>)"
            ]
          },
          "metadata": {},
          "execution_count": 24
        },
        {
          "output_type": "display_data",
          "data": {
            "text/plain": [
              "<Figure size 432x288 with 1 Axes>"
            ],
            "image/png": "[encoded data removed]"
          },
          "metadata": {
            "needs_background": "light"
          }
        }
      ]
    },
    {
      "cell_type": "code",
      "source": [
        "#A variation:SwarmPlot\n",
        "sns.swarmplot(x='Sector', y='market_cap_m',data=nasdaq)\n",
        "plt.xticks(rotation=90)\n",
        "plt.show()"
      ],
      "metadata": {
        "colab": {
          "base_uri": "https://localhost:8080/",
          "height": 829
        },
        "id": "LbrjX7SazC4H",
        "outputId": "863e9d90-efec-49ab-9871-e040eaecc5ab"
      },
      "execution_count": 27,
      "outputs": [
        {
          "output_type": "stream",
          "name": "stderr",
          "text": [
            "/usr/local/lib/python3.8/dist-packages/seaborn/categorical.py:1296: UserWarning: 48.9% of the points cannot be placed; you may want to decrease the size of the markers or use stripplot.\n",
            "  warnings.warn(msg, UserWarning)\n",
            "/usr/local/lib/python3.8/dist-packages/seaborn/categorical.py:1296: UserWarning: 64.0% of the points cannot be placed; you may want to decrease the size of the markers or use stripplot.\n",
            "  warnings.warn(msg, UserWarning)\n",
            "/usr/local/lib/python3.8/dist-packages/seaborn/categorical.py:1296: UserWarning: 58.1% of the points cannot be placed; you may want to decrease the size of the markers or use stripplot.\n",
            "  warnings.warn(msg, UserWarning)\n",
            "/usr/local/lib/python3.8/dist-packages/seaborn/categorical.py:1296: UserWarning: 75.5% of the points cannot be placed; you may want to decrease the size of the markers or use stripplot.\n",
            "  warnings.warn(msg, UserWarning)\n",
            "/usr/local/lib/python3.8/dist-packages/seaborn/categorical.py:1296: UserWarning: 44.1% of the points cannot be placed; you may want to decrease the size of the markers or use stripplot.\n",
            "  warnings.warn(msg, UserWarning)\n",
            "/usr/local/lib/python3.8/dist-packages/seaborn/categorical.py:1296: UserWarning: 81.3% of the points cannot be placed; you may want to decrease the size of the markers or use stripplot.\n",
            "  warnings.warn(msg, UserWarning)\n",
            "/usr/local/lib/python3.8/dist-packages/seaborn/categorical.py:1296: UserWarning: 54.2% of the points cannot be placed; you may want to decrease the size of the markers or use stripplot.\n",
            "  warnings.warn(msg, UserWarning)\n",
            "/usr/local/lib/python3.8/dist-packages/seaborn/categorical.py:1296: UserWarning: 19.5% of the points cannot be placed; you may want to decrease the size of the markers or use stripplot.\n",
            "  warnings.warn(msg, UserWarning)\n",
            "/usr/local/lib/python3.8/dist-packages/seaborn/categorical.py:1296: UserWarning: 45.1% of the points cannot be placed; you may want to decrease the size of the markers or use stripplot.\n",
            "  warnings.warn(msg, UserWarning)\n",
            "/usr/local/lib/python3.8/dist-packages/seaborn/categorical.py:1296: UserWarning: 44.6% of the points cannot be placed; you may want to decrease the size of the markers or use stripplot.\n",
            "  warnings.warn(msg, UserWarning)\n",
            "/usr/local/lib/python3.8/dist-packages/seaborn/categorical.py:1296: UserWarning: 49.3% of the points cannot be placed; you may want to decrease the size of the markers or use stripplot.\n",
            "  warnings.warn(msg, UserWarning)\n",
            "/usr/local/lib/python3.8/dist-packages/seaborn/categorical.py:1296: UserWarning: 24.6% of the points cannot be placed; you may want to decrease the size of the markers or use stripplot.\n",
            "  warnings.warn(msg, UserWarning)\n"
          ]
        },
        {
          "output_type": "display_data",
          "data": {
            "text/plain": [
              "<Figure size 432x288 with 1 Axes>"
            ],
            "image/png": "[encoded data removed]"
          },
          "metadata": {
            "needs_background": "light"
          }
        }
      ]
    },
    {
      "cell_type": "code",
      "source": [],
      "metadata": {
        "id": "Cdp0BjGPzbZe"
      },
      "execution_count": null,
      "outputs": []
    }
  ]
}