{
  "nbformat": 4,
  "nbformat_minor": 0,
  "metadata": {
    "colab": {
      "provenance": [],
      "authorship_tag": "ABX9TyOstxZryx9NJJlL15YG3hha"
    },
    "kernelspec": {
      "name": "python3",
      "display_name": "Python 3"
    },
    "language_info": {
      "name": "python"
    }
  },
  "cells": [
    {
      "cell_type": "code",
      "execution_count": null,
      "metadata": {
        "colab": {
          "base_uri": "https://localhost:8080/"
        },
        "id": "OF8M6k8yNl79",
        "outputId": "ea2a6e46-07d3-4dc1-d77c-e77756dad028"
      },
      "outputs": [
        {
          "output_type": "stream",
          "name": "stdout",
          "text": [
            "<class 'pandas.core.frame.DataFrame'>\n",
            "RangeIndex: 360 entries, 0 to 359\n",
            "Data columns (total 8 columns):\n",
            " #   Column                 Non-Null Count  Dtype  \n",
            "---  ------                 --------------  -----  \n",
            " 0   Stock Symbol           360 non-null    object \n",
            " 1   Company Name           360 non-null    object \n",
            " 2   Last Sale              346 non-null    float64\n",
            " 3   Market Capitalization  360 non-null    float64\n",
            " 4   IPO Year               105 non-null    float64\n",
            " 5   Sector                 238 non-null    object \n",
            " 6   Industry               238 non-null    object \n",
            " 7   Last Update            360 non-null    object \n",
            "dtypes: float64(3), object(5)\n",
            "memory usage: 22.6+ KB\n"
          ]
        }
      ],
      "source": [
        "import pandas as pd\n",
        "amex= pd.read_csv('amex-listings.csv')\n",
        "amex.info()"
      ]
    },
    {
      "cell_type": "code",
      "source": [
        "#Dealing with Missing Valus\n",
        "amex= pd.read_csv('amex-listings.csv',na_values= 'n/a')\n",
        "amex.info()"
      ],
      "metadata": {
        "colab": {
          "base_uri": "https://localhost:8080/"
        },
        "id": "x12zvn62R59P",
        "outputId": "3e474c8a-8d56-4c2e-c05b-1bb7c35cd9ba"
      },
      "execution_count": null,
      "outputs": [
        {
          "output_type": "stream",
          "name": "stdout",
          "text": [
            "<class 'pandas.core.frame.DataFrame'>\n",
            "RangeIndex: 360 entries, 0 to 359\n",
            "Data columns (total 8 columns):\n",
            " #   Column                 Non-Null Count  Dtype  \n",
            "---  ------                 --------------  -----  \n",
            " 0   Stock Symbol           360 non-null    object \n",
            " 1   Company Name           360 non-null    object \n",
            " 2   Last Sale              346 non-null    float64\n",
            " 3   Market Capitalization  360 non-null    float64\n",
            " 4   IPO Year               105 non-null    float64\n",
            " 5   Sector                 238 non-null    object \n",
            " 6   Industry               238 non-null    object \n",
            " 7   Last Update            360 non-null    object \n",
            "dtypes: float64(3), object(5)\n",
            "memory usage: 22.6+ KB\n"
          ]
        }
      ]
    },
    {
      "cell_type": "code",
      "source": [
        "#properly Parsing dates\n",
        "amex= pd.read_csv('amex-listings.csv',na_values='n/a',parse_dates=['Last Update'])\n",
        "amex.info()"
      ],
      "metadata": {
        "colab": {
          "base_uri": "https://localhost:8080/"
        },
        "id": "Zge2k19HSLf4",
        "outputId": "fbc08050-dd9f-4d3b-a849-f5b76e894a3a"
      },
      "execution_count": null,
      "outputs": [
        {
          "output_type": "stream",
          "name": "stdout",
          "text": [
            "<class 'pandas.core.frame.DataFrame'>\n",
            "RangeIndex: 360 entries, 0 to 359\n",
            "Data columns (total 8 columns):\n",
            " #   Column                 Non-Null Count  Dtype         \n",
            "---  ------                 --------------  -----         \n",
            " 0   Stock Symbol           360 non-null    object        \n",
            " 1   Company Name           360 non-null    object        \n",
            " 2   Last Sale              346 non-null    float64       \n",
            " 3   Market Capitalization  360 non-null    float64       \n",
            " 4   IPO Year               105 non-null    float64       \n",
            " 5   Sector                 238 non-null    object        \n",
            " 6   Industry               238 non-null    object        \n",
            " 7   Last Update            360 non-null    datetime64[ns]\n",
            "dtypes: datetime64[ns](1), float64(3), object(4)\n",
            "memory usage: 22.6+ KB\n"
          ]
        }
      ]
    },
    {
      "cell_type": "code",
      "source": [
        "amex.head(2)"
      ],
      "metadata": {
        "colab": {
          "base_uri": "https://localhost:8080/",
          "height": 315
        },
        "id": "5b2zC7RcSmq-",
        "outputId": "647ab326-db3f-4725-8518-50d486169db6"
      },
      "execution_count": null,
      "outputs": [
        {
          "output_type": "execute_result",
          "data": {
            "text/plain": [
              "  Stock Symbol                           Company Name  Last Sale  \\\n",
              "0         XXII                22nd Century Group, Inc       1.33   \n",
              "1          FAX  Aberdeen Asia-Pacific Income Fund Inc       5.00   \n",
              "\n",
              "   Market Capitalization  IPO Year                 Sector  \\\n",
              "0           1.206285e+08       NaN  Consumer Non-Durables   \n",
              "1           1.266333e+09    1986.0                    NaN   \n",
              "\n",
              "                Industry Last Update  \n",
              "0  Farming/Seeds/Milling  2017-04-26  \n",
              "1                    NaN  2017-04-25  "
            ],
            "text/html": [
              "\n",
              "  <div id=\"df-d89e0509-cbfa-4113-a25b-54838cd026ec\">\n",
              "    <div class=\"colab-df-container\">\n",
              "      <div>\n",
              "<style scoped>\n",
              "    .dataframe tbody tr th:only-of-type {\n",
              "        vertical-align: middle;\n",
              "    }\n",
              "\n",
              "    .dataframe tbody tr th {\n",
              "        vertical-align: top;\n",
              "    }\n",
              "\n",
              "    .dataframe thead th {\n",
              "        text-align: right;\n",
              "    }\n",
              "</style>\n",
              "<table border=\"1\" class=\"dataframe\">\n",
              "  <thead>\n",
              "    <tr style=\"text-align: right;\">\n",
              "      <th></th>\n",
              "      <th>Stock Symbol</th>\n",
              "      <th>Company Name</th>\n",
              "      <th>Last Sale</th>\n",
              "      <th>Market Capitalization</th>\n",
              "      <th>IPO Year</th>\n",
              "      <th>Sector</th>\n",
              "      <th>Industry</th>\n",
              "      <th>Last Update</th>\n",
              "    </tr>\n",
              "  </thead>\n",
              "  <tbody>\n",
              "    <tr>\n",
              "      <th>0</th>\n",
              "      <td>XXII</td>\n",
              "      <td>22nd Century Group, Inc</td>\n",
              "      <td>1.33</td>\n",
              "      <td>1.206285e+08</td>\n",
              "      <td>NaN</td>\n",
              "      <td>Consumer Non-Durables</td>\n",
              "      <td>Farming/Seeds/Milling</td>\n",
              "      <td>2017-04-26</td>\n",
              "    </tr>\n",
              "    <tr>\n",
              "      <th>1</th>\n",
              "      <td>FAX</td>\n",
              "      <td>Aberdeen Asia-Pacific Income Fund Inc</td>\n",
              "      <td>5.00</td>\n",
              "      <td>1.266333e+09</td>\n",
              "      <td>1986.0</td>\n",
              "      <td>NaN</td>\n",
              "      <td>NaN</td>\n",
              "      <td>2017-04-25</td>\n",
              "    </tr>\n",
              "  </tbody>\n",
              "</table>\n",
              "</div>\n",
              "      <button class=\"colab-df-convert\" onclick=\"convertToInteractive('df-d89e0509-cbfa-4113-a25b-54838cd026ec')\"\n",
              "              title=\"Convert this dataframe to an interactive table.\"\n",
              "              style=\"display:none;\">\n",
              "        \n",
              "  <svg xmlns=\"http://www.w3.org/2000/svg\" height=\"24px\"viewBox=\"0 0 24 24\"\n",
              "       width=\"24px\">\n",
              "    <path d=\"M0 0h24v24H0V0z\" fill=\"none\"/>\n",
              "    <path d=\"M18.56 5.44l.94 2.06.94-2.06 2.06-.94-2.06-.94-.94-2.06-.94 2.06-2.06.94zm-11 1L8.5 8.5l.94-2.06 2.06-.94-2.06-.94L8.5 2.5l-.94 2.06-2.06.94zm10 10l.94 2.06.94-2.06 2.06-.94-2.06-.94-.94-2.06-.94 2.06-2.06.94z\"/><path d=\"M17.41 7.96l-1.37-1.37c-.4-.4-.92-.59-1.43-.59-.52 0-1.04.2-1.43.59L10.3 9.45l-7.72 7.72c-.78.78-.78 2.05 0 2.83L4 21.41c.39.39.9.59 1.41.59.51 0 1.02-.2 1.41-.59l7.78-7.78 2.81-2.81c.8-.78.8-2.07 0-2.86zM5.41 20L4 18.59l7.72-7.72 1.47 1.35L5.41 20z\"/>\n",
              "  </svg>\n",
              "      </button>\n",
              "      \n",
              "  <style>\n",
              "    .colab-df-container {\n",
              "      display:flex;\n",
              "      flex-wrap:wrap;\n",
              "      gap: 12px;\n",
              "    }\n",
              "\n",
              "    .colab-df-convert {\n",
              "      background-color: #E8F0FE;\n",
              "      border: none;\n",
              "      border-radius: 50%;\n",
              "      cursor: pointer;\n",
              "      display: none;\n",
              "      fill: #1967D2;\n",
              "      height: 32px;\n",
              "      padding: 0 0 0 0;\n",
              "      width: 32px;\n",
              "    }\n",
              "\n",
              "    .colab-df-convert:hover {\n",
              "      background-color: #E2EBFA;\n",
              "      box-shadow: 0px 1px 2px rgba(60, 64, 67, 0.3), 0px 1px 3px 1px rgba(60, 64, 67, 0.15);\n",
              "      fill: #174EA6;\n",
              "    }\n",
              "\n",
              "    [theme=dark] .colab-df-convert {\n",
              "      background-color: #3B4455;\n",
              "      fill: #D2E3FC;\n",
              "    }\n",
              "\n",
              "    [theme=dark] .colab-df-convert:hover {\n",
              "      background-color: #434B5C;\n",
              "      box-shadow: 0px 1px 3px 1px rgba(0, 0, 0, 0.15);\n",
              "      filter: drop-shadow(0px 1px 2px rgba(0, 0, 0, 0.3));\n",
              "      fill: #FFFFFF;\n",
              "    }\n",
              "  </style>\n",
              "\n",
              "      <script>\n",
              "        const buttonEl =\n",
              "          document.querySelector('#df-d89e0509-cbfa-4113-a25b-54838cd026ec button.colab-df-convert');\n",
              "        buttonEl.style.display =\n",
              "          google.colab.kernel.accessAllowed ? 'block' : 'none';\n",
              "\n",
              "        async function convertToInteractive(key) {\n",
              "          const element = document.querySelector('#df-d89e0509-cbfa-4113-a25b-54838cd026ec');\n",
              "          const dataTable =\n",
              "            await google.colab.kernel.invokeFunction('convertToInteractive',\n",
              "                                                     [key], {});\n",
              "          if (!dataTable) return;\n",
              "\n",
              "          const docLinkHtml = 'Like what you see? Visit the ' +\n",
              "            '<a target=\"_blank\" href=https://colab.research.google.com/notebooks/data_table.ipynb>data table notebook</a>'\n",
              "            + ' to learn more about interactive tables.';\n",
              "          element.innerHTML = '';\n",
              "          dataTable['output_type'] = 'display_data';\n",
              "          await google.colab.output.renderOutput(dataTable, element);\n",
              "          const docLink = document.createElement('div');\n",
              "          docLink.innerHTML = docLinkHtml;\n",
              "          element.appendChild(docLink);\n",
              "        }\n",
              "      </script>\n",
              "    </div>\n",
              "  </div>\n",
              "  "
            ]
          },
          "metadata": {},
          "execution_count": 4
        }
      ]
    },
    {
      "cell_type": "markdown",
      "source": [
        "#Read Data From Excel Worksheet"
      ],
      "metadata": {
        "id": "QtEYeYk8YMXV"
      }
    },
    {
      "cell_type": "code",
      "source": [
        "#Import Data From one Sheet\n",
        "amex= pd.read_excel('listings.xlsx',\n",
        "                    sheet_name = 'amex',\n",
        "                    na_values='n/a')\n",
        "amex.info()"
      ],
      "metadata": {
        "colab": {
          "base_uri": "https://localhost:8080/"
        },
        "id": "Xd2V0hrcSs5w",
        "outputId": "6010e63c-a716-4e79-f86a-b0ce8f2c5708"
      },
      "execution_count": null,
      "outputs": [
        {
          "output_type": "stream",
          "name": "stdout",
          "text": [
            "<class 'pandas.core.frame.DataFrame'>\n",
            "RangeIndex: 360 entries, 0 to 359\n",
            "Data columns (total 8 columns):\n",
            " #   Column                 Non-Null Count  Dtype         \n",
            "---  ------                 --------------  -----         \n",
            " 0   Stock Symbol           360 non-null    object        \n",
            " 1   Company Name           360 non-null    object        \n",
            " 2   Last Sale              346 non-null    float64       \n",
            " 3   Market Capitalization  360 non-null    float64       \n",
            " 4   IPO Year               105 non-null    float64       \n",
            " 5   Sector                 238 non-null    object        \n",
            " 6   Industry               238 non-null    object        \n",
            " 7   Last Update            360 non-null    datetime64[ns]\n",
            "dtypes: datetime64[ns](1), float64(3), object(4)\n",
            "memory usage: 22.6+ KB\n"
          ]
        }
      ]
    },
    {
      "cell_type": "code",
      "source": [
        "#Import Data from two sheets\n",
        "listings=pd.read_excel('listings.xlsx',\n",
        "                       sheet_name=['amex','nasdaq'],\n",
        "                       na_values='n/a')\n",
        "listings['nasdaq'].info()"
      ],
      "metadata": {
        "colab": {
          "base_uri": "https://localhost:8080/"
        },
        "id": "nYQ8FW8XY2x0",
        "outputId": "4d95ef24-271e-42db-af43-bea9d0134ad0"
      },
      "execution_count": null,
      "outputs": [
        {
          "output_type": "stream",
          "name": "stderr",
          "text": [
            "/usr/local/lib/python3.8/dist-packages/openpyxl/worksheet/_reader.py:312: UserWarning: Unknown extension is not supported and will be removed\n",
            "  warn(msg)\n"
          ]
        },
        {
          "output_type": "stream",
          "name": "stdout",
          "text": [
            "<class 'pandas.core.frame.DataFrame'>\n",
            "RangeIndex: 3167 entries, 0 to 3166\n",
            "Data columns (total 7 columns):\n",
            " #   Column                 Non-Null Count  Dtype  \n",
            "---  ------                 --------------  -----  \n",
            " 0   Stock Symbol           3167 non-null   object \n",
            " 1   Company Name           3167 non-null   object \n",
            " 2   Last Sale              3165 non-null   float64\n",
            " 3   Market Capitalization  3167 non-null   float64\n",
            " 4   IPO Year               1386 non-null   float64\n",
            " 5   Sector                 2767 non-null   object \n",
            " 6   Industry               2767 non-null   object \n",
            "dtypes: float64(3), object(4)\n",
            "memory usage: 173.3+ KB\n"
          ]
        }
      ]
    },
    {
      "cell_type": "code",
      "source": [
        "#Get Sheet Name\n",
        "xls= pd.ExcelFile('listings.xlsx')\n",
        "exchanges =xls.sheet_names\n",
        "exchanges"
      ],
      "metadata": {
        "colab": {
          "base_uri": "https://localhost:8080/"
        },
        "id": "W1kvL2cGY9Dy",
        "outputId": "fe7f0d64-8371-4392-a9de-138ba6e19ccd"
      },
      "execution_count": null,
      "outputs": [
        {
          "output_type": "execute_result",
          "data": {
            "text/plain": [
              "['amex', 'nasdaq', 'nyse']"
            ]
          },
          "metadata": {},
          "execution_count": 8
        }
      ]
    },
    {
      "cell_type": "code",
      "source": [
        "nyse= pd.read_excel(xls,\n",
        "                    sheet_name=exchanges[2],\n",
        "                    na_values= 'n/a')\n",
        "nyse.info()"
      ],
      "metadata": {
        "colab": {
          "base_uri": "https://localhost:8080/"
        },
        "id": "mtU0QaFUZpuO",
        "outputId": "1783a300-b360-42c9-ca76-8bafad1e6bfe"
      },
      "execution_count": null,
      "outputs": [
        {
          "output_type": "stream",
          "name": "stdout",
          "text": [
            "<class 'pandas.core.frame.DataFrame'>\n",
            "RangeIndex: 3147 entries, 0 to 3146\n",
            "Data columns (total 7 columns):\n",
            " #   Column                 Non-Null Count  Dtype  \n",
            "---  ------                 --------------  -----  \n",
            " 0   Stock Symbol           3147 non-null   object \n",
            " 1   Company Name           3147 non-null   object \n",
            " 2   Last Sale              3079 non-null   float64\n",
            " 3   Market Capitalization  3147 non-null   float64\n",
            " 4   IPO Year               1361 non-null   float64\n",
            " 5   Sector                 2177 non-null   object \n",
            " 6   Industry               2177 non-null   object \n",
            "dtypes: float64(3), object(4)\n",
            "memory usage: 172.2+ KB\n"
          ]
        },
        {
          "output_type": "stream",
          "name": "stderr",
          "text": [
            "/usr/local/lib/python3.8/dist-packages/openpyxl/worksheet/_reader.py:312: UserWarning: Unknown extension is not supported and will be removed\n",
            "  warn(msg)\n"
          ]
        }
      ]
    },
    {
      "cell_type": "markdown",
      "source": [
        "#Combine Data From Multiple Worksheets"
      ],
      "metadata": {
        "id": "yabBiSGre5_G"
      }
    },
    {
      "cell_type": "code",
      "source": [
        "amex= pd.read_excel('listings.xlsx',\n",
        "                    sheet_name= 'amex',\n",
        "                    na_values=['n/a'])\n",
        "nyse= pd.read_excel('listings.xlsx',\n",
        "                    sheet_name='nyse',\n",
        "                    na_values=['n/a'])\n",
        "pd.concat([amex,nyse]).info()\n"
      ],
      "metadata": {
        "colab": {
          "base_uri": "https://localhost:8080/"
        },
        "id": "tcgvGFktZ681",
        "outputId": "f0ac789b-4fc7-4cad-c43b-b25db5df9cf0"
      },
      "execution_count": null,
      "outputs": [
        {
          "output_type": "stream",
          "name": "stderr",
          "text": [
            "/usr/local/lib/python3.8/dist-packages/openpyxl/worksheet/_reader.py:312: UserWarning: Unknown extension is not supported and will be removed\n",
            "  warn(msg)\n"
          ]
        },
        {
          "output_type": "stream",
          "name": "stdout",
          "text": [
            "<class 'pandas.core.frame.DataFrame'>\n",
            "Int64Index: 3507 entries, 0 to 3146\n",
            "Data columns (total 7 columns):\n",
            " #   Column                 Non-Null Count  Dtype  \n",
            "---  ------                 --------------  -----  \n",
            " 0   Stock Symbol           3507 non-null   object \n",
            " 1   Company Name           3507 non-null   object \n",
            " 2   Last Sale              3425 non-null   float64\n",
            " 3   Market Capitalization  3507 non-null   float64\n",
            " 4   IPO Year               1466 non-null   float64\n",
            " 5   Sector                 2415 non-null   object \n",
            " 6   Industry               2415 non-null   object \n",
            "dtypes: float64(3), object(4)\n",
            "memory usage: 219.2+ KB\n"
          ]
        }
      ]
    },
    {
      "cell_type": "code",
      "source": [
        "#Add A Reference Column\n",
        "amex['Exchange']= 'AMEX' #add column to reference source\n",
        "nyse['Exchange']='NYSE'\n",
        "listings= pd.concat([amex,nyse])\n",
        "listings.head(2)"
      ],
      "metadata": {
        "colab": {
          "base_uri": "https://localhost:8080/",
          "height": 315
        },
        "id": "QYns04ilfl3Y",
        "outputId": "e9f3dd9b-e794-4f41-aba3-895efb6eaaa6"
      },
      "execution_count": null,
      "outputs": [
        {
          "output_type": "execute_result",
          "data": {
            "text/plain": [
              "  Stock Symbol                           Company Name  Last Sale  \\\n",
              "0         XXII                22nd Century Group, Inc       1.33   \n",
              "1          FAX  Aberdeen Asia-Pacific Income Fund Inc       5.00   \n",
              "\n",
              "   Market Capitalization  IPO Year                 Sector  \\\n",
              "0           1.206285e+08       NaN  Consumer Non-Durables   \n",
              "1           1.266333e+09    1986.0                    NaN   \n",
              "\n",
              "                Industry Exchange  \n",
              "0  Farming/Seeds/Milling     AMEX  \n",
              "1                    NaN     AMEX  "
            ],
            "text/html": [
              "\n",
              "  <div id=\"df-099817ee-64c2-4ed9-a31e-d10f5bac1533\">\n",
              "    <div class=\"colab-df-container\">\n",
              "      <div>\n",
              "<style scoped>\n",
              "    .dataframe tbody tr th:only-of-type {\n",
              "        vertical-align: middle;\n",
              "    }\n",
              "\n",
              "    .dataframe tbody tr th {\n",
              "        vertical-align: top;\n",
              "    }\n",
              "\n",
              "    .dataframe thead th {\n",
              "        text-align: right;\n",
              "    }\n",
              "</style>\n",
              "<table border=\"1\" class=\"dataframe\">\n",
              "  <thead>\n",
              "    <tr style=\"text-align: right;\">\n",
              "      <th></th>\n",
              "      <th>Stock Symbol</th>\n",
              "      <th>Company Name</th>\n",
              "      <th>Last Sale</th>\n",
              "      <th>Market Capitalization</th>\n",
              "      <th>IPO Year</th>\n",
              "      <th>Sector</th>\n",
              "      <th>Industry</th>\n",
              "      <th>Exchange</th>\n",
              "    </tr>\n",
              "  </thead>\n",
              "  <tbody>\n",
              "    <tr>\n",
              "      <th>0</th>\n",
              "      <td>XXII</td>\n",
              "      <td>22nd Century Group, Inc</td>\n",
              "      <td>1.33</td>\n",
              "      <td>1.206285e+08</td>\n",
              "      <td>NaN</td>\n",
              "      <td>Consumer Non-Durables</td>\n",
              "      <td>Farming/Seeds/Milling</td>\n",
              "      <td>AMEX</td>\n",
              "    </tr>\n",
              "    <tr>\n",
              "      <th>1</th>\n",
              "      <td>FAX</td>\n",
              "      <td>Aberdeen Asia-Pacific Income Fund Inc</td>\n",
              "      <td>5.00</td>\n",
              "      <td>1.266333e+09</td>\n",
              "      <td>1986.0</td>\n",
              "      <td>NaN</td>\n",
              "      <td>NaN</td>\n",
              "      <td>AMEX</td>\n",
              "    </tr>\n",
              "  </tbody>\n",
              "</table>\n",
              "</div>\n",
              "      <button class=\"colab-df-convert\" onclick=\"convertToInteractive('df-099817ee-64c2-4ed9-a31e-d10f5bac1533')\"\n",
              "              title=\"Convert this dataframe to an interactive table.\"\n",
              "              style=\"display:none;\">\n",
              "        \n",
              "  <svg xmlns=\"http://www.w3.org/2000/svg\" height=\"24px\"viewBox=\"0 0 24 24\"\n",
              "       width=\"24px\">\n",
              "    <path d=\"M0 0h24v24H0V0z\" fill=\"none\"/>\n",
              "    <path d=\"M18.56 5.44l.94 2.06.94-2.06 2.06-.94-2.06-.94-.94-2.06-.94 2.06-2.06.94zm-11 1L8.5 8.5l.94-2.06 2.06-.94-2.06-.94L8.5 2.5l-.94 2.06-2.06.94zm10 10l.94 2.06.94-2.06 2.06-.94-2.06-.94-.94-2.06-.94 2.06-2.06.94z\"/><path d=\"M17.41 7.96l-1.37-1.37c-.4-.4-.92-.59-1.43-.59-.52 0-1.04.2-1.43.59L10.3 9.45l-7.72 7.72c-.78.78-.78 2.05 0 2.83L4 21.41c.39.39.9.59 1.41.59.51 0 1.02-.2 1.41-.59l7.78-7.78 2.81-2.81c.8-.78.8-2.07 0-2.86zM5.41 20L4 18.59l7.72-7.72 1.47 1.35L5.41 20z\"/>\n",
              "  </svg>\n",
              "      </button>\n",
              "      \n",
              "  <style>\n",
              "    .colab-df-container {\n",
              "      display:flex;\n",
              "      flex-wrap:wrap;\n",
              "      gap: 12px;\n",
              "    }\n",
              "\n",
              "    .colab-df-convert {\n",
              "      background-color: #E8F0FE;\n",
              "      border: none;\n",
              "      border-radius: 50%;\n",
              "      cursor: pointer;\n",
              "      display: none;\n",
              "      fill: #1967D2;\n",
              "      height: 32px;\n",
              "      padding: 0 0 0 0;\n",
              "      width: 32px;\n",
              "    }\n",
              "\n",
              "    .colab-df-convert:hover {\n",
              "      background-color: #E2EBFA;\n",
              "      box-shadow: 0px 1px 2px rgba(60, 64, 67, 0.3), 0px 1px 3px 1px rgba(60, 64, 67, 0.15);\n",
              "      fill: #174EA6;\n",
              "    }\n",
              "\n",
              "    [theme=dark] .colab-df-convert {\n",
              "      background-color: #3B4455;\n",
              "      fill: #D2E3FC;\n",
              "    }\n",
              "\n",
              "    [theme=dark] .colab-df-convert:hover {\n",
              "      background-color: #434B5C;\n",
              "      box-shadow: 0px 1px 3px 1px rgba(0, 0, 0, 0.15);\n",
              "      filter: drop-shadow(0px 1px 2px rgba(0, 0, 0, 0.3));\n",
              "      fill: #FFFFFF;\n",
              "    }\n",
              "  </style>\n",
              "\n",
              "      <script>\n",
              "        const buttonEl =\n",
              "          document.querySelector('#df-099817ee-64c2-4ed9-a31e-d10f5bac1533 button.colab-df-convert');\n",
              "        buttonEl.style.display =\n",
              "          google.colab.kernel.accessAllowed ? 'block' : 'none';\n",
              "\n",
              "        async function convertToInteractive(key) {\n",
              "          const element = document.querySelector('#df-099817ee-64c2-4ed9-a31e-d10f5bac1533');\n",
              "          const dataTable =\n",
              "            await google.colab.kernel.invokeFunction('convertToInteractive',\n",
              "                                                     [key], {});\n",
              "          if (!dataTable) return;\n",
              "\n",
              "          const docLinkHtml = 'Like what you see? Visit the ' +\n",
              "            '<a target=\"_blank\" href=https://colab.research.google.com/notebooks/data_table.ipynb>data table notebook</a>'\n",
              "            + ' to learn more about interactive tables.';\n",
              "          element.innerHTML = '';\n",
              "          dataTable['output_type'] = 'display_data';\n",
              "          await google.colab.output.renderOutput(dataTable, element);\n",
              "          const docLink = document.createElement('div');\n",
              "          docLink.innerHTML = docLinkHtml;\n",
              "          element.appendChild(docLink);\n",
              "        }\n",
              "      </script>\n",
              "    </div>\n",
              "  </div>\n",
              "  "
            ]
          },
          "metadata": {},
          "execution_count": 11
        }
      ]
    },
    {
      "cell_type": "code",
      "source": [
        "#Combine Three DataFrame\n",
        "xls= pd.ExcelFile('listings.xlsx')\n",
        "exchanges= xls.sheet_names\n",
        "#Create empty list to collect DataFrame\n",
        "listings=[]\n",
        "\n",
        "for exchange in exchanges:\n",
        "  listing= pd.read_excel(xls,sheet_name=exchange)\n",
        "  #add Reference col\n",
        "  listing['Exchange']= exchange\n",
        "  #Add DataFrame to list\n",
        "  listings.append(listing)\n",
        "  #list of DataFrame\n",
        "  combined_listings= pd.concat(listings)\n",
        "\n",
        "  combined_listings.info()"
      ],
      "metadata": {
        "colab": {
          "base_uri": "https://localhost:8080/"
        },
        "id": "ljAiLVwZgGJT",
        "outputId": "da7b7bc6-9646-4cb1-d5a6-3d5d634cc563"
      },
      "execution_count": null,
      "outputs": [
        {
          "output_type": "stream",
          "name": "stderr",
          "text": [
            "/usr/local/lib/python3.8/dist-packages/openpyxl/worksheet/_reader.py:312: UserWarning: Unknown extension is not supported and will be removed\n",
            "  warn(msg)\n"
          ]
        },
        {
          "output_type": "stream",
          "name": "stdout",
          "text": [
            "<class 'pandas.core.frame.DataFrame'>\n",
            "RangeIndex: 360 entries, 0 to 359\n",
            "Data columns (total 8 columns):\n",
            " #   Column                 Non-Null Count  Dtype  \n",
            "---  ------                 --------------  -----  \n",
            " 0   Stock Symbol           360 non-null    object \n",
            " 1   Company Name           360 non-null    object \n",
            " 2   Last Sale              346 non-null    float64\n",
            " 3   Market Capitalization  360 non-null    float64\n",
            " 4   IPO Year               105 non-null    float64\n",
            " 5   Sector                 238 non-null    object \n",
            " 6   Industry               238 non-null    object \n",
            " 7   Exchange               360 non-null    object \n",
            "dtypes: float64(3), object(5)\n",
            "memory usage: 22.6+ KB\n",
            "<class 'pandas.core.frame.DataFrame'>\n",
            "Int64Index: 3527 entries, 0 to 3166\n",
            "Data columns (total 8 columns):\n",
            " #   Column                 Non-Null Count  Dtype  \n",
            "---  ------                 --------------  -----  \n",
            " 0   Stock Symbol           3527 non-null   object \n",
            " 1   Company Name           3527 non-null   object \n",
            " 2   Last Sale              3511 non-null   float64\n",
            " 3   Market Capitalization  3527 non-null   float64\n",
            " 4   IPO Year               1491 non-null   float64\n",
            " 5   Sector                 3005 non-null   object \n",
            " 6   Industry               3005 non-null   object \n",
            " 7   Exchange               3527 non-null   object \n",
            "dtypes: float64(3), object(5)\n",
            "memory usage: 248.0+ KB\n",
            "<class 'pandas.core.frame.DataFrame'>\n",
            "Int64Index: 6674 entries, 0 to 3146\n",
            "Data columns (total 8 columns):\n",
            " #   Column                 Non-Null Count  Dtype  \n",
            "---  ------                 --------------  -----  \n",
            " 0   Stock Symbol           6674 non-null   object \n",
            " 1   Company Name           6674 non-null   object \n",
            " 2   Last Sale              6590 non-null   float64\n",
            " 3   Market Capitalization  6674 non-null   float64\n",
            " 4   IPO Year               2852 non-null   float64\n",
            " 5   Sector                 5182 non-null   object \n",
            " 6   Industry               5182 non-null   object \n",
            " 7   Exchange               6674 non-null   object \n",
            "dtypes: float64(3), object(5)\n",
            "memory usage: 469.3+ KB\n"
          ]
        }
      ]
    },
    {
      "cell_type": "code",
      "source": [],
      "metadata": {
        "id": "Le6NCAblhQhw"
      },
      "execution_count": null,
      "outputs": []
    }
  ]
}